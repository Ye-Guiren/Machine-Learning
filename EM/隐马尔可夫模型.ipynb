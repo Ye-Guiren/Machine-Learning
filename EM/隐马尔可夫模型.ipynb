{
 "cells": [
  {
   "cell_type": "markdown",
   "id": "03ba61a4-2169-4e2c-b9fe-e5de981aa55a",
   "metadata": {},
   "source": [
    "### 数据准备"
   ]
  },
  {
   "cell_type": "code",
   "execution_count": 3,
   "id": "b12e31bd-53c9-4641-8f5d-95cbbb891326",
   "metadata": {},
   "outputs": [],
   "source": [
    "import numpy as np\n",
    "state = np.array(['认真复习', '简单复习', '没有复习'])\n",
    "grade = np.array(['A+', 'A', 'A-', 'B+', 'B', 'B-', 'C+', 'C', 'C-'])\n",
    "n_state = len(state)\n",
    "m_grade = len(grade)\n",
    "pi = np.ones(n_state)/n_state\n",
    "t = np.array([\n",
    "    [0.4, 0.3, 0.3],\n",
    "    [0.3, 0.4, 0.3],\n",
    "    [0.3, 0.3, 0.4]\n",
    "])\n",
    "e = np.zeros([3,9])\n",
    "e[0, :9]=1/9\n",
    "e[1, 3:9]=1/6\n",
    "e[2, 5:9]=1/4"
   ]
  },
  {
   "cell_type": "code",
   "execution_count": 5,
   "id": "d161f2c6-156d-4a9a-a6a9-107f8c3e2254",
   "metadata": {},
   "outputs": [
    {
     "name": "stdout",
     "output_type": "stream",
     "text": [
      "初始概率矩阵：\n",
      " [0.33333333 0.33333333 0.33333333]\n",
      "转移矩阵：\n",
      " [[0.4 0.3 0.3]\n",
      " [0.3 0.4 0.3]\n",
      " [0.3 0.3 0.4]]\n",
      "发射矩阵：\n",
      " [[0.11111111 0.11111111 0.11111111 0.11111111 0.11111111 0.11111111\n",
      "  0.11111111 0.11111111 0.11111111]\n",
      " [0.         0.         0.         0.16666667 0.16666667 0.16666667\n",
      "  0.16666667 0.16666667 0.16666667]\n",
      " [0.         0.         0.         0.         0.         0.25\n",
      "  0.25       0.25       0.25      ]]\n"
     ]
    }
   ],
   "source": [
    "print(\"初始概率矩阵：\\n\",pi)\n",
    "print(\"转移矩阵：\\n\",t)\n",
    "print(\"发射矩阵：\\n\",e)"
   ]
  },
  {
   "cell_type": "markdown",
   "id": "a6e53846-ac70-4aa8-bb82-5ececb397b8e",
   "metadata": {},
   "source": [
    "### HMM Learn"
   ]
  },
  {
   "cell_type": "code",
   "execution_count": 8,
   "id": "b7eb631a-3cf5-46f5-884a-dc732bdbda5e",
   "metadata": {},
   "outputs": [
    {
     "name": "stdout",
     "output_type": "stream",
     "text": [
      "Collecting hmmlearn\n",
      "  Downloading hmmlearn-0.3.3-cp312-cp312-win_amd64.whl.metadata (3.1 kB)\n",
      "Requirement already satisfied: numpy>=1.10 in d:\\anaconda\\lib\\site-packages (from hmmlearn) (1.26.4)\n",
      "Requirement already satisfied: scikit-learn!=0.22.0,>=0.16 in d:\\anaconda\\lib\\site-packages (from hmmlearn) (1.5.1)\n",
      "Requirement already satisfied: scipy>=0.19 in d:\\anaconda\\lib\\site-packages (from hmmlearn) (1.13.1)\n",
      "Requirement already satisfied: joblib>=1.2.0 in d:\\anaconda\\lib\\site-packages (from scikit-learn!=0.22.0,>=0.16->hmmlearn) (1.4.2)\n",
      "Requirement already satisfied: threadpoolctl>=3.1.0 in d:\\anaconda\\lib\\site-packages (from scikit-learn!=0.22.0,>=0.16->hmmlearn) (3.5.0)\n",
      "Downloading hmmlearn-0.3.3-cp312-cp312-win_amd64.whl (127 kB)\n",
      "Installing collected packages: hmmlearn\n",
      "Successfully installed hmmlearn-0.3.3\n",
      "Note: you may need to restart the kernel to use updated packages.\n"
     ]
    }
   ],
   "source": [
    "pip install hmmlearn"
   ]
  },
  {
   "cell_type": "code",
   "execution_count": 24,
   "id": "f81ed4d7-f1a8-4a8d-b621-acf678c2fcc1",
   "metadata": {},
   "outputs": [],
   "source": [
    "from hmmlearn.hmm import CategoricalHMM\n",
    "hmm = CategoricalHMM(n_state)"
   ]
  },
  {
   "cell_type": "code",
   "execution_count": 26,
   "id": "db281204-ba3f-4cd6-8cb1-230b9ee49a6d",
   "metadata": {},
   "outputs": [],
   "source": [
    "hmm.startprob_ = pi\n",
    "hmm.transmat_ = t\n",
    "hmm.emissionprob_ = e\n",
    "hmm.n_feature = 9"
   ]
  },
  {
   "cell_type": "code",
   "execution_count": 48,
   "id": "7b9fccdc-c5ec-4287-bbba-035524f401e5",
   "metadata": {},
   "outputs": [],
   "source": [
    "datas = np.array([0,4,2,6,1])\n",
    "datas = np.expand_dims(datas, axis = 1)\n",
    "# 将一维数组datas扩展为二维数组(形状从(5，)变为(5，1))\n",
    "states = hmm.predict(datas)"
   ]
  },
  {
   "cell_type": "code",
   "execution_count": 50,
   "id": "77497d39-4780-471b-9c3c-4bc55e65742e",
   "metadata": {},
   "outputs": [
    {
     "data": {
      "text/plain": [
       "array([0, 0, 0, 2, 0], dtype=int64)"
      ]
     },
     "execution_count": 50,
     "metadata": {},
     "output_type": "execute_result"
    }
   ],
   "source": [
    "states"
   ]
  },
  {
   "cell_type": "code",
   "execution_count": 52,
   "id": "388914d7-2758-45ea-9563-b0fbe81d3f65",
   "metadata": {},
   "outputs": [
    {
     "data": {
      "text/plain": [
       "-14.003674820375014"
      ]
     },
     "execution_count": 52,
     "metadata": {},
     "output_type": "execute_result"
    }
   ],
   "source": [
    "prob = hmm.score(datas)\n",
    "# 计算观测序列datas的对数概率\n",
    "# score方法返回对数概率值(为数值稳定性，避免直接计算极小值概率)\n",
    "prob"
   ]
  },
  {
   "cell_type": "code",
   "execution_count": 46,
   "id": "a91bb4ad-5425-4bae-a1d5-a9674152daf4",
   "metadata": {},
   "outputs": [
    {
     "name": "stdout",
     "output_type": "stream",
     "text": [
      "8.284786081615825e-07\n"
     ]
    }
   ],
   "source": [
    "print(np.exp(prob))\n",
    "# 对对数概率prob取指数，还原真实概率值"
   ]
  },
  {
   "cell_type": "code",
   "execution_count": 54,
   "id": "57f09cad-2c20-41b0-ab68-3a5f30dffc53",
   "metadata": {},
   "outputs": [],
   "source": [
    "datas , states = hmm.sample(10000)"
   ]
  },
  {
   "cell_type": "code",
   "execution_count": 56,
   "id": "4f17c2e3-779d-41d7-82bf-83cac656281c",
   "metadata": {},
   "outputs": [
    {
     "name": "stdout",
     "output_type": "stream",
     "text": [
      "[[0.41429    0.2987091  0.2870009 ]\n",
      " [0.29670006 0.41337655 0.28992339]\n",
      " [0.28850856 0.30440098 0.40709046]]\n"
     ]
    }
   ],
   "source": [
    "t_2 = np.zeros([3,3])\n",
    "for i in range(3):\n",
    "    current = np.where(states == i)[0]\n",
    "    next_index = current+1\n",
    "    next_index = next_index[:-1]\n",
    "\n",
    "    tmp = states[next_index]\n",
    "    for j in range(3):\n",
    "        t_2[i][j] = np.where(tmp==j)[0].shape[0]/np.shape(tmp)[0]\n",
    "print(t_2)"
   ]
  },
  {
   "cell_type": "code",
   "execution_count": 58,
   "id": "a195d95c-cf70-49ac-ad21-fd8dcd3cc333",
   "metadata": {},
   "outputs": [
    {
     "name": "stdout",
     "output_type": "stream",
     "text": [
      "[[0.10534214 0.11584634 0.10384154 0.11164466 0.11884754 0.11194478\n",
      "  0.11284514 0.11584634 0.10384154]\n",
      " [0.         0.         0.         0.1808542  0.16141384 0.17260677\n",
      "  0.17113402 0.15552283 0.15846834]\n",
      " [0.         0.         0.         0.         0.         0.2578674\n",
      "  0.24992362 0.23923006 0.25297892]]\n"
     ]
    }
   ],
   "source": [
    "e_2 = np.zeros([3,9])\n",
    "for i in range(3):\n",
    "    current = np.where(states == i)[0]\n",
    "    next_index = current+1\n",
    "    next_index = next_index[:-1]\n",
    "    tmp = datas[current]\n",
    "    for j in range(9):\n",
    "        e_2[i][j] = np.where(tmp==j)[0].shape[0]/np.shape(tmp)[0]\n",
    "print(e_2)"
   ]
  }
 ],
 "metadata": {
  "kernelspec": {
   "display_name": "Python [conda env:base] *",
   "language": "python",
   "name": "conda-base-py"
  },
  "language_info": {
   "codemirror_mode": {
    "name": "ipython",
    "version": 3
   },
   "file_extension": ".py",
   "mimetype": "text/x-python",
   "name": "python",
   "nbconvert_exporter": "python",
   "pygments_lexer": "ipython3",
   "version": "3.12.7"
  }
 },
 "nbformat": 4,
 "nbformat_minor": 5
}
