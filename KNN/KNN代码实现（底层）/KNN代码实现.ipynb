{
 "cells": [
  {
   "cell_type": "markdown",
   "id": "855d94c0-f7aa-4b2e-b514-63308b655c92",
   "metadata": {},
   "source": [
    "# KNN算法的原理"
   ]
  },
  {
   "cell_type": "code",
   "execution_count": 2,
   "id": "6bc4b1eb-88a0-4bbe-a12c-ee72c754858d",
   "metadata": {},
   "outputs": [],
   "source": [
    "import numpy as np\n",
    "import matplotlib.pyplot as plt"
   ]
  },
  {
   "cell_type": "code",
   "execution_count": 3,
   "id": "b9eeb4cd-2db2-4706-954e-fd2396625524",
   "metadata": {},
   "outputs": [],
   "source": [
    "# 样本特征\n",
    "data_X =[\n",
    "    [1.3,6],\n",
    "    [3.5,5],\n",
    "    [4.2,2],\n",
    "    [5,3.3],\n",
    "    [2,9],\n",
    "    [5,7.5],\n",
    "    [7.2,4],\n",
    "    [8.1,8],\n",
    "    [9,2.5]\n",
    "]"
   ]
  },
  {
   "cell_type": "code",
   "execution_count": 4,
   "id": "a9f73609-fafa-4d7f-b637-09837f2dfa4d",
   "metadata": {},
   "outputs": [],
   "source": [
    "# 样本标记\n",
    "data_Y = [0,0,0,0,1,1,1,1,1]"
   ]
  },
  {
   "cell_type": "code",
   "execution_count": 5,
   "id": "e16aef51-5a6b-4b18-a2f5-aabb448cb30b",
   "metadata": {},
   "outputs": [],
   "source": [
    "# 训练集\n",
    "X_train = np.array(data_X)\n",
    "Y_train = np.array(data_Y)"
   ]
  },
  {
   "cell_type": "code",
   "execution_count": 6,
   "id": "5f736720-f0ff-41ed-949c-c1d3d1342d55",
   "metadata": {},
   "outputs": [
    {
     "data": {
      "text/plain": [
       "array([[1.3, 6. ],\n",
       "       [3.5, 5. ],\n",
       "       [4.2, 2. ],\n",
       "       [5. , 3.3],\n",
       "       [2. , 9. ],\n",
       "       [5. , 7.5],\n",
       "       [7.2, 4. ],\n",
       "       [8.1, 8. ],\n",
       "       [9. , 2.5]])"
      ]
     },
     "execution_count": 6,
     "metadata": {},
     "output_type": "execute_result"
    }
   ],
   "source": [
    "X_train"
   ]
  },
  {
   "cell_type": "code",
   "execution_count": 7,
   "id": "74ccedea-8d01-4668-8a32-a3b772420e0a",
   "metadata": {},
   "outputs": [
    {
     "data": {
      "text/plain": [
       "array([0, 0, 0, 0, 1, 1, 1, 1, 1])"
      ]
     },
     "execution_count": 7,
     "metadata": {},
     "output_type": "execute_result"
    }
   ],
   "source": [
    "Y_train"
   ]
  },
  {
   "cell_type": "code",
   "execution_count": 8,
   "id": "c1fa9ab4-1de8-4e5a-b6c5-ac4e2e371755",
   "metadata": {},
   "outputs": [
    {
     "data": {
      "text/plain": [
       "array([ True,  True,  True,  True, False, False, False, False, False])"
      ]
     },
     "execution_count": 8,
     "metadata": {},
     "output_type": "execute_result"
    }
   ],
   "source": [
    "Y_train == 0"
   ]
  },
  {
   "cell_type": "code",
   "execution_count": 9,
   "id": "7325936a-804a-4b56-95b1-47cc52607b91",
   "metadata": {},
   "outputs": [
    {
     "data": {
      "text/plain": [
       "array([[1.3, 6. ],\n",
       "       [3.5, 5. ],\n",
       "       [4.2, 2. ],\n",
       "       [5. , 3.3]])"
      ]
     },
     "execution_count": 9,
     "metadata": {},
     "output_type": "execute_result"
    }
   ],
   "source": [
    "X_train[Y_train==0]  "
   ]
  },
  {
   "cell_type": "code",
   "execution_count": 10,
   "id": "ddb52e3e-9cf9-4d7b-a4e4-f29880080714",
   "metadata": {},
   "outputs": [
    {
     "data": {
      "text/plain": [
       "array([1.3, 3.5, 4.2, 5. ])"
      ]
     },
     "execution_count": 10,
     "metadata": {},
     "output_type": "execute_result"
    }
   ],
   "source": [
    "X_train[Y_train==0,0]"
   ]
  },
  {
   "cell_type": "code",
   "execution_count": 11,
   "id": "a2b408c4-5c58-489f-96c2-4dffe761a230",
   "metadata": {},
   "outputs": [
    {
     "data": {
      "text/plain": [
       "array([6. , 5. , 2. , 3.3])"
      ]
     },
     "execution_count": 11,
     "metadata": {},
     "output_type": "execute_result"
    }
   ],
   "source": [
    "X_train[Y_train==0,1]"
   ]
  },
  {
   "cell_type": "code",
   "execution_count": 12,
   "id": "9bf713b5-7ffe-4150-b0b4-e9703aee426e",
   "metadata": {},
   "outputs": [
    {
     "data": {
      "image/png": "[encoded data removed]",
      "text/plain": [
       "<Figure size 640x480 with 1 Axes>"
      ]
     },
     "metadata": {},
     "output_type": "display_data"
    }
   ],
   "source": [
    "plt.scatter(X_train[Y_train==0,0], X_train[Y_train==0,1],color='red',marker='x')\n",
    "plt.scatter(X_train[Y_train==1,0], X_train[Y_train==1,1],color='black',marker='o')\n",
    "plt.show()"
   ]
  },
  {
   "cell_type": "code",
   "execution_count": 13,
   "id": "ffbea965-4f07-4a59-9af9-257992f7d72d",
   "metadata": {},
   "outputs": [],
   "source": [
    "# 新的样本点\n",
    "data_new = np.array([4,5])"
   ]
  },
  {
   "cell_type": "code",
   "execution_count": 14,
   "id": "1c9b495f-e2a5-422c-87c3-8cc4a9c05666",
   "metadata": {},
   "outputs": [
    {
     "data": {
      "image/png": "[encoded data removed]",
      "text/plain": [
       "<Figure size 640x480 with 1 Axes>"
      ]
     },
     "metadata": {},
     "output_type": "display_data"
    }
   ],
   "source": [
    "plt.scatter(X_train[Y_train==0,0], X_train[Y_train==0,1],color='red',marker='x')\n",
    "plt.scatter(X_train[Y_train==1,0], X_train[Y_train==1,1],color='black',marker='o')\n",
    "plt.scatter(data_new[0],data_new[1],color='blue',marker='^')\n",
    "plt.show()"
   ]
  },
  {
   "cell_type": "markdown",
   "id": "7ae21458-4768-4dc2-a32f-1989d7788321",
   "metadata": {},
   "source": [
    "## KNN的预测过程"
   ]
  },
  {
   "cell_type": "markdown",
   "id": "b2edaeea-db61-4d81-a8b0-6d947adc6955",
   "metadata": {},
   "source": [
    "### 1.计算样本点与已知样本点的距离"
   ]
  },
  {
   "cell_type": "code",
   "execution_count": 17,
   "id": "8b04d888-8c28-4f03-9f5c-af5aa85ac772",
   "metadata": {},
   "outputs": [
    {
     "name": "stdout",
     "output_type": "stream",
     "text": [
      "2.879236009777594\n",
      "0.5\n",
      "3.006659275674582\n",
      "1.9723082923316022\n",
      "4.47213595499958\n",
      "2.692582403567252\n",
      "3.3526109228480423\n",
      "5.080354318352215\n",
      "5.5901699437494745\n"
     ]
    }
   ],
   "source": [
    "for data in X_train:\n",
    "    print(np.sqrt(np.sum((data - data_new)**2)))"
   ]
  },
  {
   "cell_type": "code",
   "execution_count": 18,
   "id": "a101583a-7bcf-4356-be6e-bf35bb7f76b0",
   "metadata": {},
   "outputs": [
    {
     "data": {
      "text/plain": [
       "[2.879236009777594,\n",
       " 0.5,\n",
       " 3.006659275674582,\n",
       " 1.9723082923316022,\n",
       " 4.47213595499958,\n",
       " 2.692582403567252,\n",
       " 3.3526109228480423,\n",
       " 5.080354318352215,\n",
       " 5.5901699437494745]"
      ]
     },
     "execution_count": 18,
     "metadata": {},
     "output_type": "execute_result"
    }
   ],
   "source": [
    "distances = [np.sqrt(np.sum((data - data_new)**2)) for data in X_train]\n",
    "distances"
   ]
  },
  {
   "cell_type": "markdown",
   "id": "1e4828aa-6e89-41a8-91d1-e68d7dbbee88",
   "metadata": {},
   "source": [
    "### 2.按距离排序"
   ]
  },
  {
   "cell_type": "code",
   "execution_count": 20,
   "id": "09206f2a-28dd-493d-a832-76df73d8b60f",
   "metadata": {},
   "outputs": [
    {
     "data": {
      "text/plain": [
       "[2.879236009777594,\n",
       " 0.5,\n",
       " 3.006659275674582,\n",
       " 1.9723082923316022,\n",
       " 4.47213595499958,\n",
       " 2.692582403567252,\n",
       " 3.3526109228480423,\n",
       " 5.080354318352215,\n",
       " 5.5901699437494745]"
      ]
     },
     "execution_count": 20,
     "metadata": {},
     "output_type": "execute_result"
    }
   ],
   "source": [
    "np.sort(distances)\n",
    "distances\n",
    "# 注意此步并不改变distances本身元素的排列"
   ]
  },
  {
   "cell_type": "code",
   "execution_count": 21,
   "id": "1153abe1-cb20-44d4-96b3-dee1adf805bd",
   "metadata": {},
   "outputs": [
    {
     "data": {
      "text/plain": [
       "array([1, 3, 5, 0, 2, 6, 4, 7, 8], dtype=int64)"
      ]
     },
     "execution_count": 21,
     "metadata": {},
     "output_type": "execute_result"
    }
   ],
   "source": [
    "sort_index = np.argsort(distances)\n",
    "sort_index"
   ]
  },
  {
   "cell_type": "markdown",
   "id": "a84bafc9-3778-46b8-b295-a757d142e569",
   "metadata": {},
   "source": [
    "### 确定k的值"
   ]
  },
  {
   "cell_type": "code",
   "execution_count": 23,
   "id": "9a736138-ddd0-4681-b7d7-1d9d26d289b2",
   "metadata": {},
   "outputs": [],
   "source": [
    "k = 5"
   ]
  },
  {
   "cell_type": "markdown",
   "id": "d40f4d7b-ba36-4510-a9f6-c01edb527603",
   "metadata": {},
   "source": [
    "### 4.距离最近的k个点投票"
   ]
  },
  {
   "cell_type": "code",
   "execution_count": 25,
   "id": "a81868a5-18f8-46c1-8119-36ad5add870f",
   "metadata": {},
   "outputs": [
    {
     "data": {
      "text/plain": [
       "[0, 0, 1, 0, 0]"
      ]
     },
     "execution_count": 25,
     "metadata": {},
     "output_type": "execute_result"
    }
   ],
   "source": [
    "first_k = [Y_train[i] for i in sort_index[:k]]\n",
    "first_k\n",
    "#这一步是将离data_new最近的K个样本点的下标索引所对应的样本标记放进first_k数组当中"
   ]
  },
  {
   "cell_type": "code",
   "execution_count": 26,
   "id": "f41ab15d-bfca-4d49-9ca5-4a7202af922b",
   "metadata": {},
   "outputs": [
    {
     "data": {
      "text/plain": [
       "Counter({0: 4, 1: 1})"
      ]
     },
     "execution_count": 26,
     "metadata": {},
     "output_type": "execute_result"
    }
   ],
   "source": [
    "from collections import Counter\n",
    "Counter(first_k)\n",
    "#字典的形式"
   ]
  },
  {
   "cell_type": "code",
   "execution_count": 27,
   "id": "71ba2e9b-776f-4031-acfd-d53852c51f1c",
   "metadata": {},
   "outputs": [
    {
     "data": {
      "text/plain": [
       "[(0, 4), (1, 1)]"
      ]
     },
     "execution_count": 27,
     "metadata": {},
     "output_type": "execute_result"
    }
   ],
   "source": [
    "Counter(first_k).most_common()"
   ]
  },
  {
   "cell_type": "code",
   "execution_count": 28,
   "id": "59f24095-7c53-47fc-bcfe-2362fc745f95",
   "metadata": {},
   "outputs": [
    {
     "data": {
      "text/plain": [
       "[(0, 4)]"
      ]
     },
     "execution_count": 28,
     "metadata": {},
     "output_type": "execute_result"
    }
   ],
   "source": [
    "Counter(first_k).most_common(1)"
   ]
  },
  {
   "cell_type": "code",
   "execution_count": 29,
   "id": "2f0aab5a-d80e-465e-ac2c-de48fc340687",
   "metadata": {},
   "outputs": [
    {
     "data": {
      "text/plain": [
       "0"
      ]
     },
     "execution_count": 29,
     "metadata": {},
     "output_type": "execute_result"
    }
   ],
   "source": [
    "predict_Y = Counter(first_k).most_common(1)[0][0]\n",
    "predict_Y"
   ]
  }
 ],
 "metadata": {
  "kernelspec": {
   "display_name": "Python [conda env:base] *",
   "language": "python",
   "name": "conda-base-py"
  },
  "language_info": {
   "codemirror_mode": {
    "name": "ipython",
    "version": 3
   },
   "file_extension": ".py",
   "mimetype": "text/x-python",
   "name": "python",
   "nbconvert_exporter": "python",
   "pygments_lexer": "ipython3",
   "version": "3.12.7"
  }
 },
 "nbformat": 4,
 "nbformat_minor": 5
}
