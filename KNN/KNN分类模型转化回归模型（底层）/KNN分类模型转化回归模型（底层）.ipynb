{
 "cells": [
  {
   "cell_type": "markdown",
   "id": "855d94c0-f7aa-4b2e-b514-63308b655c92",
   "metadata": {},
   "source": [
    "# KNN分类模型转化回归模型（底层）"
   ]
  },
  {
   "cell_type": "code",
   "execution_count": 10,
   "id": "6bc4b1eb-88a0-4bbe-a12c-ee72c754858d",
   "metadata": {},
   "outputs": [],
   "source": [
    "import numpy as np\n",
    "import matplotlib.pyplot as plt"
   ]
  },
  {
   "cell_type": "code",
   "execution_count": 11,
   "id": "b9eeb4cd-2db2-4706-954e-fd2396625524",
   "metadata": {},
   "outputs": [],
   "source": [
    "# 样本特征\n",
    "data_X =[\n",
    "    [1.3,6],\n",
    "    [3.5,5],\n",
    "    [4.2,2],\n",
    "    [5,3.3],\n",
    "    [2,9],\n",
    "    [5,7.5],\n",
    "    [7.2,4],\n",
    "    [8.1,8],\n",
    "    [9,2.5]\n",
    "]"
   ]
  },
  {
   "cell_type": "code",
   "execution_count": 12,
   "id": "a9f73609-fafa-4d7f-b637-09837f2dfa4d",
   "metadata": {},
   "outputs": [],
   "source": [
    "# 样本标记\n",
    "data_Y = [0.1,0.3,0.5,0.7,0.9,1.1,1.3,1.5,1.7]"
   ]
  },
  {
   "cell_type": "code",
   "execution_count": 13,
   "id": "e16aef51-5a6b-4b18-a2f5-aabb448cb30b",
   "metadata": {},
   "outputs": [],
   "source": [
    "# 训练集\n",
    "X_train = np.array(data_X)\n",
    "Y_train = np.array(data_Y)"
   ]
  },
  {
   "cell_type": "code",
   "execution_count": 31,
   "id": "ffbea965-4f07-4a59-9af9-257992f7d72d",
   "metadata": {},
   "outputs": [],
   "source": [
    "# 新的样本点\n",
    "data_new = np.array([4,5])"
   ]
  },
  {
   "cell_type": "code",
   "execution_count": 71,
   "id": "1c9b495f-e2a5-422c-87c3-8cc4a9c05666",
   "metadata": {},
   "outputs": [
    {
     "data": {
      "image/png": "[encoded data removed]",
      "text/plain": [
       "<Figure size 640x480 with 1 Axes>"
      ]
     },
     "metadata": {},
     "output_type": "display_data"
    }
   ],
   "source": [
    "plt.scatter(X_train[:,0], X_train[:,1],color='black')\n",
    "plt.scatter(data_new[0],data_new[1],color='blue',marker='^')\n",
    "for i in range(len(Y_train)):\n",
    "    plt.annotate(\n",
    "        Y_train[i],\n",
    "        # 标注内容，即数据对应的标签值\n",
    "        xy=X_train[i],\n",
    "        # 标注关联的坐标点，'xy'设定标签对应的原始数据点位置\n",
    "        # xy=X_train[i]表示注释关联到X_train中的第i个数据点的坐标位置\n",
    "        xytext=(-15,15),\n",
    "        # 标签文本的偏移量，横向-15，纵向-15（单位由'textcoords'定义）\n",
    "        textcoords='offset points'\n",
    "        # 明确'xytext'的单位是\"点(point)\"即相当于'xy'位置的偏移量\n",
    "    )\n",
    "    \n",
    "plt.show()"
   ]
  },
  {
   "cell_type": "markdown",
   "id": "7ae21458-4768-4dc2-a32f-1989d7788321",
   "metadata": {},
   "source": [
    "## KNN的预测过程"
   ]
  },
  {
   "cell_type": "markdown",
   "id": "b2edaeea-db61-4d81-a8b0-6d947adc6955",
   "metadata": {},
   "source": [
    "### 1.计算样本点与已知样本点的距离"
   ]
  },
  {
   "cell_type": "code",
   "execution_count": 38,
   "id": "8b04d888-8c28-4f03-9f5c-af5aa85ac772",
   "metadata": {},
   "outputs": [
    {
     "name": "stdout",
     "output_type": "stream",
     "text": [
      "2.879236009777594\n",
      "0.5\n",
      "3.006659275674582\n",
      "1.9723082923316022\n",
      "4.47213595499958\n",
      "2.692582403567252\n",
      "3.3526109228480423\n",
      "5.080354318352215\n",
      "5.5901699437494745\n"
     ]
    }
   ],
   "source": [
    "for data in X_train:\n",
    "    print(np.sqrt(np.sum((data - data_new)**2)))"
   ]
  },
  {
   "cell_type": "code",
   "execution_count": 40,
   "id": "a101583a-7bcf-4356-be6e-bf35bb7f76b0",
   "metadata": {},
   "outputs": [
    {
     "data": {
      "text/plain": [
       "[2.879236009777594,\n",
       " 0.5,\n",
       " 3.006659275674582,\n",
       " 1.9723082923316022,\n",
       " 4.47213595499958,\n",
       " 2.692582403567252,\n",
       " 3.3526109228480423,\n",
       " 5.080354318352215,\n",
       " 5.5901699437494745]"
      ]
     },
     "execution_count": 40,
     "metadata": {},
     "output_type": "execute_result"
    }
   ],
   "source": [
    "distances = [np.sqrt(np.sum((data - data_new)**2)) for data in X_train]\n",
    "distances"
   ]
  },
  {
   "cell_type": "markdown",
   "id": "1e4828aa-6e89-41a8-91d1-e68d7dbbee88",
   "metadata": {},
   "source": [
    "### 2.按距离排序"
   ]
  },
  {
   "cell_type": "code",
   "execution_count": 43,
   "id": "09206f2a-28dd-493d-a832-76df73d8b60f",
   "metadata": {},
   "outputs": [
    {
     "data": {
      "text/plain": [
       "[2.879236009777594,\n",
       " 0.5,\n",
       " 3.006659275674582,\n",
       " 1.9723082923316022,\n",
       " 4.47213595499958,\n",
       " 2.692582403567252,\n",
       " 3.3526109228480423,\n",
       " 5.080354318352215,\n",
       " 5.5901699437494745]"
      ]
     },
     "execution_count": 43,
     "metadata": {},
     "output_type": "execute_result"
    }
   ],
   "source": [
    "np.sort(distances)\n",
    "distances\n",
    "# 注意此步并不改变distances本身元素的排列"
   ]
  },
  {
   "cell_type": "code",
   "execution_count": 45,
   "id": "1153abe1-cb20-44d4-96b3-dee1adf805bd",
   "metadata": {},
   "outputs": [
    {
     "data": {
      "text/plain": [
       "array([1, 3, 5, 0, 2, 6, 4, 7, 8], dtype=int64)"
      ]
     },
     "execution_count": 45,
     "metadata": {},
     "output_type": "execute_result"
    }
   ],
   "source": [
    "sort_index = np.argsort(distances)\n",
    "sort_index"
   ]
  },
  {
   "cell_type": "markdown",
   "id": "a84bafc9-3778-46b8-b295-a757d142e569",
   "metadata": {},
   "source": [
    "### 确定k的值"
   ]
  },
  {
   "cell_type": "code",
   "execution_count": 48,
   "id": "9a736138-ddd0-4681-b7d7-1d9d26d289b2",
   "metadata": {},
   "outputs": [],
   "source": [
    "k = 5"
   ]
  },
  {
   "cell_type": "markdown",
   "id": "d40f4d7b-ba36-4510-a9f6-c01edb527603",
   "metadata": {},
   "source": [
    "### 4.距离最近的k个点投票"
   ]
  },
  {
   "cell_type": "code",
   "execution_count": 51,
   "id": "a81868a5-18f8-46c1-8119-36ad5add870f",
   "metadata": {},
   "outputs": [
    {
     "data": {
      "text/plain": [
       "[0.3, 0.7, 1.1, 0.1, 0.5]"
      ]
     },
     "execution_count": 51,
     "metadata": {},
     "output_type": "execute_result"
    }
   ],
   "source": [
    "first_k = [Y_train[i] for i in sort_index[:k]]\n",
    "first_k\n",
    "#这一步是将离data_new最近的K个样本点的下标索引所对应的样本标记放进first_k数组当中"
   ]
  },
  {
   "cell_type": "code",
   "execution_count": 73,
   "id": "410b5f32-2e8c-4eba-94ed-803cafd3b33b",
   "metadata": {},
   "outputs": [
    {
     "data": {
      "text/plain": [
       "0.54"
      ]
     },
     "execution_count": 73,
     "metadata": {},
     "output_type": "execute_result"
    }
   ],
   "source": [
    "k = 5\n",
    "first_k = [Y_train[i] for i in sort_index[:k]]\n",
    "np.mean(first_k)"
   ]
  }
 ],
 "metadata": {
  "kernelspec": {
   "display_name": "Python [conda env:base] *",
   "language": "python",
   "name": "conda-base-py"
  },
  "language_info": {
   "codemirror_mode": {
    "name": "ipython",
    "version": 3
   },
   "file_extension": ".py",
   "mimetype": "text/x-python",
   "name": "python",
   "nbconvert_exporter": "python",
   "pygments_lexer": "ipython3",
   "version": "3.12.7"
  }
 },
 "nbformat": 4,
 "nbformat_minor": 5
}
