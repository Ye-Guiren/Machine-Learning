{
 "cells": [
  {
   "cell_type": "markdown",
   "id": "1ad6e62d-2dc5-4284-bef0-e93f77176456",
   "metadata": {},
   "source": [
    "### 不同模型比较"
   ]
  },
  {
   "cell_type": "code",
   "execution_count": 3,
   "id": "7554f810-42d4-430c-a039-af067dd76772",
   "metadata": {},
   "outputs": [],
   "source": [
    "from sklearn import datasets\n",
    "import warnings\n",
    "warnings.filterwarnings('ignore')"
   ]
  },
  {
   "cell_type": "code",
   "execution_count": 21,
   "id": "88a8fbe1-22ba-4a85-999c-07a30b7e15ff",
   "metadata": {},
   "outputs": [],
   "source": [
    "import numpy as np\n",
    "\n",
    "from sklearn.neighbors import KNeighborsClassifier\n",
    "from sklearn.tree import DecisionTreeClassifier\n",
    "from sklearn.linear_model import LogisticRegression\n",
    "from sklearn.preprocessing import PolynomialFeatures\n",
    "# 用于将原始特征扩展为多项式特征，以捕捉数据中的非线性关系\n",
    "from sklearn.pipeline import Pipeline\n",
    "# 用于将数据预处理步骤和模型训练步骤串联成一个流程，简化代码逻辑\n",
    "from sklearn.preprocessing import StandardScaler\n",
    "# 用于对数据进行标准化处理\n",
    "from sklearn.model_selection import cross_val_score\n",
    "# 用于执行交叉验证并返回评分，评估模型在不同数据子集上的性能\n",
    "def model_selection(x,y,cv):\n",
    "\n",
    "    knn = KNeighborsClassifier(n_neighbors=3)\n",
    "    dt = DecisionTreeClassifier(max_depth=5)\n",
    "    lr = Pipeline([\n",
    "        ('poly',PolynomialFeatures(degree=2)),\n",
    "        # 将原始特征扩展为二次多项式特征\n",
    "        ('log_reg',LogisticRegression())\n",
    "        # 对扩展后的特征应用逻辑回归模型，使其能够处理非线性分类问题\n",
    "    ])\n",
    "    print('knn_score:%f,dt_score:%f,lr_score:%f'%(\n",
    "        np.mean(cross_val_score(knn,x,y,cv = 5)),\n",
    "        np.mean(cross_val_score(lr,x,y,cv = 5)),\n",
    "        np.mean(cross_val_score(dt,x,y,cv = 5))\n",
    "    ))"
   ]
  },
  {
   "cell_type": "code",
   "execution_count": 23,
   "id": "de73b992-3a05-4809-9486-1cc987531e13",
   "metadata": {},
   "outputs": [
    {
     "name": "stdout",
     "output_type": "stream",
     "text": [
      "knn_score:0.966667,dt_score:0.980000,lr_score:0.966667\n"
     ]
    }
   ],
   "source": [
    "dataset = datasets.load_iris()\n",
    "x = dataset.data\n",
    "y = dataset.target\n",
    "cv = 5\n",
    "model_selection(x,y,cv)"
   ]
  },
  {
   "cell_type": "code",
   "execution_count": 25,
   "id": "982f3173-7840-456a-be23-1c46a280a24c",
   "metadata": {},
   "outputs": [
    {
     "name": "stdout",
     "output_type": "stream",
     "text": [
      ".. _digits_dataset:\n",
      "\n",
      "Optical recognition of handwritten digits dataset\n",
      "--------------------------------------------------\n",
      "\n",
      "**Data Set Characteristics:**\n",
      "\n",
      ":Number of Instances: 1797\n",
      ":Number of Attributes: 64\n",
      ":Attribute Information: 8x8 image of integer pixels in the range 0..16.\n",
      ":Missing Attribute Values: None\n",
      ":Creator: E. Alpaydin (alpaydin '@' boun.edu.tr)\n",
      ":Date: July; 1998\n",
      "\n",
      "This is a copy of the test set of the UCI ML hand-written digits datasets\n",
      "https://archive.ics.uci.edu/ml/datasets/Optical+Recognition+of+Handwritten+Digits\n",
      "\n",
      "The data set contains images of hand-written digits: 10 classes where\n",
      "each class refers to a digit.\n",
      "\n",
      "Preprocessing programs made available by NIST were used to extract\n",
      "normalized bitmaps of handwritten digits from a preprinted form. From a\n",
      "total of 43 people, 30 contributed to the training set and different 13\n",
      "to the test set. 32x32 bitmaps are divided into nonoverlapping blocks of\n",
      "4x4 and the number of on pixels are counted in each block. This generates\n",
      "an input matrix of 8x8 where each element is an integer in the range\n",
      "0..16. This reduces dimensionality and gives invariance to small\n",
      "distortions.\n",
      "\n",
      "For info on NIST preprocessing routines, see M. D. Garris, J. L. Blue, G.\n",
      "T. Candela, D. L. Dimmick, J. Geist, P. J. Grother, S. A. Janet, and C.\n",
      "L. Wilson, NIST Form-Based Handprint Recognition System, NISTIR 5469,\n",
      "1994.\n",
      "\n",
      ".. dropdown:: References\n",
      "\n",
      "  - C. Kaynak (1995) Methods of Combining Multiple Classifiers and Their\n",
      "    Applications to Handwritten Digit Recognition, MSc Thesis, Institute of\n",
      "    Graduate Studies in Science and Engineering, Bogazici University.\n",
      "  - E. Alpaydin, C. Kaynak (1998) Cascading Classifiers, Kybernetika.\n",
      "  - Ken Tang and Ponnuthurai N. Suganthan and Xi Yao and A. Kai Qin.\n",
      "    Linear dimensionalityreduction using relevance weighted LDA. School of\n",
      "    Electrical and Electronic Engineering Nanyang Technological University.\n",
      "    2005.\n",
      "  - Claudio Gentile. A New Approximate Maximal Margin Classification\n",
      "    Algorithm. NIPS. 2000.\n",
      "\n"
     ]
    }
   ],
   "source": [
    "dataset = datasets.load_digits()\n",
    "x = dataset.data\n",
    "y = dataset.target\n",
    "cv = 5\n",
    "print(dataset.DESCR)"
   ]
  },
  {
   "cell_type": "code",
   "execution_count": 27,
   "id": "a8e88a90-32a2-4d83-b1eb-5544ff1c1d21",
   "metadata": {},
   "outputs": [
    {
     "data": {
      "text/plain": [
       "((1797, 64), (1797,))"
      ]
     },
     "execution_count": 27,
     "metadata": {},
     "output_type": "execute_result"
    }
   ],
   "source": [
    "x.shape,y.shape"
   ]
  },
  {
   "cell_type": "code",
   "execution_count": 29,
   "id": "84def95f-8113-42f9-bc0a-1452ede70a58",
   "metadata": {},
   "outputs": [
    {
     "name": "stderr",
     "output_type": "stream",
     "text": [
      "  File \"D:\\anaconda\\Lib\\site-packages\\joblib\\externals\\loky\\backend\\context.py\", line 257, in _count_physical_cores\n",
      "    cpu_info = subprocess.run(\n",
      "               ^^^^^^^^^^^^^^^\n",
      "  File \"D:\\anaconda\\Lib\\subprocess.py\", line 548, in run\n",
      "    with Popen(*popenargs, **kwargs) as process:\n",
      "         ^^^^^^^^^^^^^^^^^^^^^^^^^^^\n",
      "  File \"D:\\anaconda\\Lib\\subprocess.py\", line 1026, in __init__\n",
      "    self._execute_child(args, executable, preexec_fn, close_fds,\n",
      "  File \"D:\\anaconda\\Lib\\subprocess.py\", line 1538, in _execute_child\n",
      "    hp, ht, pid, tid = _winapi.CreateProcess(executable, args,\n",
      "                       ^^^^^^^^^^^^^^^^^^^^^^^^^^^^^^^^^^^^^^^\n"
     ]
    },
    {
     "name": "stdout",
     "output_type": "stream",
     "text": [
      "knn_score:0.966622,dt_score:0.940478,lr_score:0.630569\n"
     ]
    }
   ],
   "source": [
    "dataset = datasets.load_digits()\n",
    "x = dataset.data\n",
    "y = dataset.target\n",
    "cv = 5\n",
    "model_selection(x,y,cv)"
   ]
  },
  {
   "cell_type": "code",
   "execution_count": 31,
   "id": "f84135bd-06bd-4eed-a865-12d9875a1e6c",
   "metadata": {},
   "outputs": [],
   "source": [
    "from sklearn.neural_network import MLPClassifier"
   ]
  },
  {
   "cell_type": "code",
   "execution_count": 33,
   "id": "728d402e-9f44-4add-8655-a83fa5f75696",
   "metadata": {},
   "outputs": [
    {
     "data": {
      "text/plain": [
       "0.3650402352212937"
      ]
     },
     "execution_count": 33,
     "metadata": {},
     "output_type": "execute_result"
    }
   ],
   "source": [
    "nn = MLPClassifier(\n",
    "    hidden_layer_sizes = (1,),\n",
    "    activation = 'identity',\n",
    "    learning_rate_init = 0.01,\n",
    "    random_state = 86\n",
    ")\n",
    "np. mean(cross_val_score(nn, x, y ,cv = 5))"
   ]
  },
  {
   "cell_type": "markdown",
   "id": "84dad1ed-1d17-47be-9005-e56e010ad8bb",
   "metadata": {},
   "source": [
    "### 神经网络的模型选择"
   ]
  },
  {
   "cell_type": "code",
   "execution_count": 36,
   "id": "c0262525-ca86-4a8f-939f-628a6068bcab",
   "metadata": {},
   "outputs": [
    {
     "data": {
      "text/plain": [
       "0.8809393376663571"
      ]
     },
     "execution_count": 36,
     "metadata": {},
     "output_type": "execute_result"
    }
   ],
   "source": [
    "nn = MLPClassifier(\n",
    "    hidden_layer_sizes = (5,),\n",
    "    activation = 'identity',\n",
    "    learning_rate_init = 0.01,\n",
    "    random_state = 86\n",
    ")\n",
    "np. mean(cross_val_score(nn, x, y ,cv = 5))"
   ]
  },
  {
   "cell_type": "code",
   "execution_count": 38,
   "id": "0265c309-8ee1-441e-9fda-61edbb55277f",
   "metadata": {},
   "outputs": [
    {
     "data": {
      "text/plain": [
       "0.9209950479727638"
      ]
     },
     "execution_count": 38,
     "metadata": {},
     "output_type": "execute_result"
    }
   ],
   "source": [
    "nn = MLPClassifier(\n",
    "    hidden_layer_sizes = (100,),\n",
    "    activation = 'identity',\n",
    "    learning_rate_init = 0.01,\n",
    "    random_state = 86\n",
    ")\n",
    "np. mean(cross_val_score(nn, x, y ,cv = 5))"
   ]
  },
  {
   "cell_type": "code",
   "execution_count": 42,
   "id": "cbc65cf8-606e-4faa-a065-62d0e8a06361",
   "metadata": {},
   "outputs": [
    {
     "data": {
      "text/plain": [
       "0.9387929433611886"
      ]
     },
     "execution_count": 42,
     "metadata": {},
     "output_type": "execute_result"
    }
   ],
   "source": [
    "nn = MLPClassifier(\n",
    "    hidden_layer_sizes = (100,),\n",
    "    activation = 'relu',\n",
    "    learning_rate_init = 0.01,\n",
    "    random_state = 86\n",
    ")\n",
    "np. mean(cross_val_score(nn, x, y ,cv = 5))"
   ]
  },
  {
   "cell_type": "code",
   "execution_count": 44,
   "id": "3b26b4c1-bb57-4ab7-afd2-7981cdb71099",
   "metadata": {},
   "outputs": [
    {
     "data": {
      "text/plain": [
       "0.9421494893221913"
      ]
     },
     "execution_count": 44,
     "metadata": {},
     "output_type": "execute_result"
    }
   ],
   "source": [
    "nn = MLPClassifier(\n",
    "    hidden_layer_sizes = (100,100),\n",
    "    activation = 'relu',\n",
    "    learning_rate_init = 0.01,\n",
    "    random_state = 86\n",
    ")\n",
    "np. mean(cross_val_score(nn, x, y ,cv = 5))"
   ]
  },
  {
   "cell_type": "code",
   "execution_count": 48,
   "id": "b7932255-7abd-40ff-94a2-351a6efc4e7c",
   "metadata": {},
   "outputs": [
    {
     "data": {
      "text/plain": [
       "0.9471432992881461"
      ]
     },
     "execution_count": 48,
     "metadata": {},
     "output_type": "execute_result"
    }
   ],
   "source": [
    "nn = MLPClassifier(\n",
    "    hidden_layer_sizes = (100,50,100),\n",
    "    activation = 'relu',\n",
    "    learning_rate_init = 0.01,\n",
    "    random_state = 86\n",
    ")\n",
    "np. mean(cross_val_score(nn, x, y ,cv = 5))"
   ]
  }
 ],
 "metadata": {
  "kernelspec": {
   "display_name": "Python [conda env:base] *",
   "language": "python",
   "name": "conda-base-py"
  },
  "language_info": {
   "codemirror_mode": {
    "name": "ipython",
    "version": 3
   },
   "file_extension": ".py",
   "mimetype": "text/x-python",
   "name": "python",
   "nbconvert_exporter": "python",
   "pygments_lexer": "ipython3",
   "version": "3.12.7"
  }
 },
 "nbformat": 4,
 "nbformat_minor": 5
}
